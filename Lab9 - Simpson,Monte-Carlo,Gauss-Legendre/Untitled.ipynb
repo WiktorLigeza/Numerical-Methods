{
 "cells": [
  {
   "cell_type": "markdown",
   "metadata": {},
   "source": [
    "# Wiktor Ligęza IO gr.lab 2"
   ]
  },
  {
   "cell_type": "code",
   "execution_count": 1,
   "metadata": {},
   "outputs": [],
   "source": [
    "import numpy as np\n",
    "import pandas as pd\n",
    "import matplotlib.pyplot as plt\n",
    "import sympy as sy\n",
    "from sympy.parsing.sympy_parser import (parse_expr,\n",
    "standard_transformations, implicit_application)\n",
    "import random as random"
   ]
  },
  {
   "cell_type": "markdown",
   "metadata": {},
   "source": [
    "### DANE"
   ]
  },
  {
   "cell_type": "code",
   "execution_count": 2,
   "metadata": {},
   "outputs": [
    {
     "name": "stdout",
     "output_type": "stream",
     "text": [
      "(np: 2^2 = 2**2, 2a = 2*a, cot(a) = cot a)podaj funkcję: x*sin x\n"
     ]
    },
    {
     "data": {
      "text/latex": [
       "$\\displaystyle x \\sin{\\left(x \\right)}$"
      ],
      "text/plain": [
       "x*sin(x)"
      ]
     },
     "execution_count": 2,
     "metadata": {},
     "output_type": "execute_result"
    }
   ],
   "source": [
    "funkcja = input(\"(np: 2^2 = 2**2, 2a = 2*a, cot(a) = cot a)podaj funkcję: \")\n",
    "transformations = standard_transformations + (implicit_application,)\n",
    "f1 = parse_expr(funkcja, transformations=transformations)\n",
    "f1"
   ]
  },
  {
   "cell_type": "code",
   "execution_count": 19,
   "metadata": {},
   "outputs": [
    {
     "name": "stdout",
     "output_type": "stream",
     "text": [
      "Podaj ilość podziałów: 18\n"
     ]
    }
   ],
   "source": [
    "ilośćPodziałów = int(input(\"Podaj ilość podziałów: \"))"
   ]
  },
  {
   "cell_type": "code",
   "execution_count": 5,
   "metadata": {},
   "outputs": [
    {
     "name": "stdout",
     "output_type": "stream",
     "text": [
      "podaj przedział(np: pi/2,0): 0,pi/2\n"
     ]
    }
   ],
   "source": [
    "przedział = input(\"podaj przedział(np: pi/2,0): \").split(\",\")"
   ]
  },
  {
   "cell_type": "code",
   "execution_count": 6,
   "metadata": {},
   "outputs": [
    {
     "data": {
      "text/plain": [
       "[0.0, 1.5707963267948966]"
      ]
     },
     "execution_count": 6,
     "metadata": {},
     "output_type": "execute_result"
    }
   ],
   "source": [
    "#INPUT CONVERSION \n",
    "x = sy.symbols(\"x\")\n",
    "f = sy.lambdify(x, f1)\n",
    "\n",
    "transformations = standard_transformations + (implicit_application,)\n",
    "przedział[0] = parse_expr(przedział[0], transformations=transformations)\n",
    "przedział[1] = parse_expr(przedział[1], transformations=transformations)\n",
    "przedział[0] = np.float64(przedział[0])\n",
    "przedział[1] = np.float64(przedział[1])\n",
    "przedział"
   ]
  },
  {
   "cell_type": "markdown",
   "metadata": {},
   "source": [
    "### METODA SIMPSONA"
   ]
  },
  {
   "cell_type": "code",
   "execution_count": 7,
   "metadata": {},
   "outputs": [],
   "source": [
    "#n-number of divisions(even), r-range, f-funktion\n",
    "def Simpson(n,r,f): \n",
    "    delta = (przedział[1]-przedział[0])/ilośćPodziałów\n",
    "    s = abs(f(r[0])+f(r[1]))\n",
    "    for i in range(1,n,2):\n",
    "        s += 4*f(r[0]+i*delta)\n",
    "    for i in range(2,n-1,2):\n",
    "        s += 2*f(r[0]+i*delta)\n",
    "    return (1/3)*s*delta"
   ]
  },
  {
   "cell_type": "markdown",
   "metadata": {},
   "source": [
    "### METODA MONTE CARLO"
   ]
  },
  {
   "cell_type": "code",
   "execution_count": 8,
   "metadata": {},
   "outputs": [],
   "source": [
    "#n-number of divisions, r-range, f-funktion\n",
    "def Monte_Carlo(n,r,f): \n",
    "    y = 0\n",
    "    for i in range(n):\n",
    "        y += f(random.uniform(r[0], r[1]))\n",
    "    avg = y/n\n",
    "    return avg*(r[1]-r[0])"
   ]
  },
  {
   "cell_type": "markdown",
   "metadata": {},
   "source": [
    "### METODA KWADRATURY GAUSSA - LEGENDRE'A"
   ]
  },
  {
   "cell_type": "code",
   "execution_count": 9,
   "metadata": {},
   "outputs": [],
   "source": [
    "#2 węzłowa\n",
    "#n-number of divisions, r-range, f-funktion\n",
    "def Gauss_Legendre_2(n,r,f): \n",
    "    #stałe\n",
    "    x2 = 0.577350\n",
    "    x1 = -x2\n",
    "    #skalowanie\n",
    "    delta = (przedział[1]-przedział[0])/n\n",
    "    s = 0;\n",
    "    for i in range(n):\n",
    "        a = r[0]+i*delta\n",
    "        b = r[0]+(i+1)*delta\n",
    "        t1 = ((a + b )/2)+((b-a)/2)*x1\n",
    "        t2 = ((a + b )/2)+((b-a)/2)*x2\n",
    "        t = (t1,t2)\n",
    "        #obliczanie podcałki\n",
    "        for j in range(2):\n",
    "            s += ((b-a)/2)*f(t[j])\n",
    "    return s"
   ]
  },
  {
   "cell_type": "code",
   "execution_count": 10,
   "metadata": {},
   "outputs": [],
   "source": [
    "#4 węzłowa\n",
    "#n-number of divisions, r-range, f-funktion\n",
    "def Gauss_Legendre_4(n,r,f): \n",
    "   #stałe\n",
    "    #x\n",
    "    x3 = 0.33998\n",
    "    x4 = 0.86114\n",
    "    x1 = -x4\n",
    "    x2 = -x3\n",
    "    #a\n",
    "    a1 = 0.34785\n",
    "    a2 = 0.65214\n",
    "    a3 = 0.65214\n",
    "    a4 = 0.34785\n",
    "    A = (a1,a2,a3,a4)\n",
    "    delta = (przedział[1]-przedział[0])/n\n",
    "    s = 0;\n",
    "    for i in range(n):\n",
    "        a = r[0]+i*delta\n",
    "        b = r[0]+(i+1)*delta\n",
    "        t1 = ((a + b )/2)+((b-a)/2)*x1\n",
    "        t2 = ((a + b )/2)+((b-a)/2)*x2\n",
    "        t3 = ((a + b )/2)+((b-a)/2)*x3\n",
    "        t4 = ((a + b )/2)+((b-a)/2)*x4\n",
    "        t = (t1,t2,t3,t4)\n",
    "        #obliczanie podcałki\n",
    "        for j in range(4):\n",
    "            s += (((b-a)/2)*f(t[j]))*A[j]\n",
    "    return s"
   ]
  },
  {
   "cell_type": "markdown",
   "metadata": {},
   "source": [
    "### WYNIKI"
   ]
  },
  {
   "cell_type": "raw",
   "metadata": {},
   "source": [
    "Wyniki dla funkcji 𝑥sin(𝑥), przedziału: 0 do pi/2 oraz 18 podziałów. Parametry można łatwo edytować w sekcji: DANE"
   ]
  },
  {
   "cell_type": "code",
   "execution_count": 60,
   "metadata": {},
   "outputs": [
    {
     "name": "stdout",
     "output_type": "stream",
     "text": [
      "Simpson:            0.9999990319568973\n",
      "Monte Carlo:        0.9947262764909172\n",
      "Gaussa-Legendre 2:  1.0000000399943598\n",
      "Gaussa-Legendre 4:  0.9999900008483511\n"
     ]
    }
   ],
   "source": [
    "#wyniki dla tych samych danych wejściowych, wynik analityczny jest równy 1 \n",
    "print(\"Simpson:           \",Simpson(ilośćPodziałów ,przedział,f)) #dla tej funkcji ilość podziałów powinna być parzysta \n",
    "print(\"Monte Carlo:       \",Monte_Carlo(ilośćPodziałów ,przedział,f))\n",
    "print(\"Gaussa-Legendre 2: \",Gauss_Legendre_2(ilośćPodziałów,przedział,f))\n",
    "print(\"Gaussa-Legendre 4: \",Gauss_Legendre_4(ilośćPodziałów,przedział,f))"
   ]
  },
  {
   "cell_type": "markdown",
   "metadata": {},
   "source": [
    "### WNIOSKI"
   ]
  },
  {
   "cell_type": "raw",
   "metadata": {},
   "source": [
    "UWAGI: W przypadku Gaussa-Legendre 2 oraz 4, przedział(a,b) dzielony jest za pomocą wzoru: delta=(b-a)/n, następnie każdy kolejny podprzedział z zakresu n cechuje sie granicami ai oraz bi (gdzie ai = a+i*delta oraz bi = a+(i+1)*delta), następnie przeprowadzane jest skalowanie. \n",
    "Nie wyświetlam tych danych, ponieważ wpłynęłoby to negatywnie na czytelność sprawozdania."
   ]
  },
  {
   "cell_type": "code",
   "execution_count": 61,
   "metadata": {},
   "outputs": [
    {
     "name": "stdout",
     "output_type": "stream",
     "text": [
      "Gaussa-Legendre 2\n"
     ]
    }
   ],
   "source": [
    "S  = abs(0.9999990319568973-1)\n",
    "M  = abs(0.9947262764909172-1)\n",
    "G2 = abs(1.0000000399943598-1)\n",
    "G4 = abs(0.9999900008483511-1)\n",
    "arr = (S,M,G2,G4)\n",
    "for i in range(4):\n",
    "    if min(arr) == S:\n",
    "        print(\"Simpson\")\n",
    "        break;\n",
    "    if min(arr) == M:\n",
    "        print(\"Monte Carlo\")\n",
    "        break;\n",
    "    if min(arr) == G2:\n",
    "        print(\"Gaussa-Legendre 2\")\n",
    "        break;\n",
    "    if min(arr) == G4:\n",
    "        print(\"Gaussa-Legendre 4\")\n",
    "        break;"
   ]
  },
  {
   "cell_type": "raw",
   "metadata": {},
   "source": [
    "w tym przypadku matoda 2-węzłowa(Gaussa-Legendre) okazała się najbardziej trafna(wynik analityczny = 1)"
   ]
  }
 ],
 "metadata": {
  "kernelspec": {
   "display_name": "Python 3",
   "language": "python",
   "name": "python3"
  },
  "language_info": {
   "codemirror_mode": {
    "name": "ipython",
    "version": 3
   },
   "file_extension": ".py",
   "mimetype": "text/x-python",
   "name": "python",
   "nbconvert_exporter": "python",
   "pygments_lexer": "ipython3",
   "version": "3.7.4"
  }
 },
 "nbformat": 4,
 "nbformat_minor": 2
}
