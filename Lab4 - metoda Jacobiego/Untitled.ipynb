{
 "cells": [
  {
   "cell_type": "markdown",
   "metadata": {},
   "source": [
    "# Wiktor Ligęza IO gr.lab 2"
   ]
  },
  {
   "cell_type": "markdown",
   "metadata": {},
   "source": [
    "typ: sprawozdanie\\\n",
    "temat: metoda Jacobiego\\\n",
    "środowisko: jupyter\\\n",
    "język: Python\\\n",
    "zadanie: program wczytuje dane z pliku tekstowego i przy użyciu metody Jacobiego rozwiązuje układ równań\\"
   ]
  },
  {
   "cell_type": "code",
   "execution_count": 1,
   "metadata": {},
   "outputs": [],
   "source": [
    "import numpy as np\n",
    "import pandas as pd\n",
    "import matplotlib.pyplot as plt"
   ]
  },
  {
   "cell_type": "code",
   "execution_count": 22,
   "metadata": {},
   "outputs": [
    {
     "name": "stdout",
     "output_type": "stream",
     "text": [
      "rozmiar: 5\n",
      "tolerancja: 0.01\n",
      "ilosc powtorzen: 1000\n"
     ]
    },
    {
     "data": {
      "text/html": [
       "<div>\n",
       "<style scoped>\n",
       "    .dataframe tbody tr th:only-of-type {\n",
       "        vertical-align: middle;\n",
       "    }\n",
       "\n",
       "    .dataframe tbody tr th {\n",
       "        vertical-align: top;\n",
       "    }\n",
       "\n",
       "    .dataframe thead th {\n",
       "        text-align: right;\n",
       "    }\n",
       "</style>\n",
       "<table border=\"1\" class=\"dataframe\">\n",
       "  <thead>\n",
       "    <tr style=\"text-align: right;\">\n",
       "      <th></th>\n",
       "      <th>0</th>\n",
       "    </tr>\n",
       "  </thead>\n",
       "  <tbody>\n",
       "    <tr>\n",
       "      <td>0</td>\n",
       "      <td>5</td>\n",
       "    </tr>\n",
       "    <tr>\n",
       "      <td>1</td>\n",
       "      <td>6 1 1 1 1 10</td>\n",
       "    </tr>\n",
       "    <tr>\n",
       "      <td>2</td>\n",
       "      <td>1 12 1 0 1 15</td>\n",
       "    </tr>\n",
       "    <tr>\n",
       "      <td>3</td>\n",
       "      <td>0 1 32 1 0 34</td>\n",
       "    </tr>\n",
       "    <tr>\n",
       "      <td>4</td>\n",
       "      <td>1 1 0 4 0 6</td>\n",
       "    </tr>\n",
       "    <tr>\n",
       "      <td>5</td>\n",
       "      <td>1 0 1 0 3 5</td>\n",
       "    </tr>\n",
       "    <tr>\n",
       "      <td>6</td>\n",
       "      <td>1000</td>\n",
       "    </tr>\n",
       "    <tr>\n",
       "      <td>7</td>\n",
       "      <td>0.01</td>\n",
       "    </tr>\n",
       "  </tbody>\n",
       "</table>\n",
       "</div>"
      ],
      "text/plain": [
       "               0\n",
       "0              5\n",
       "1   6 1 1 1 1 10\n",
       "2  1 12 1 0 1 15\n",
       "3  0 1 32 1 0 34\n",
       "4    1 1 0 4 0 6\n",
       "5    1 0 1 0 3 5\n",
       "6           1000\n",
       "7           0.01"
      ]
     },
     "execution_count": 22,
     "metadata": {},
     "output_type": "execute_result"
    }
   ],
   "source": [
    "df = pd.read_csv('formatZadania.csv',header=None)\n",
    "formatZadania = df.to_numpy()\n",
    "size = int(formatZadania[0])\n",
    "stop = int(formatZadania[size+1])\n",
    "minimum = np.float64(formatZadania[size+2])\n",
    "print(\"rozmiar:\", size)\n",
    "print(\"tolerancja:\", minimum)\n",
    "print(\"ilosc powtorzen:\", stop)\n",
    "df"
   ]
  },
  {
   "cell_type": "code",
   "execution_count": 3,
   "metadata": {},
   "outputs": [
    {
     "data": {
      "text/plain": [
       "array([[ 6.,  1.,  1.,  1.,  1., 10.],\n",
       "       [ 1., 12.,  1.,  0.,  1., 15.],\n",
       "       [ 0.,  1., 32.,  1.,  0., 34.],\n",
       "       [ 1.,  1.,  0.,  4.,  0.,  6.],\n",
       "       [ 1.,  0.,  1.,  0.,  3.,  5.]], dtype=float32)"
      ]
     },
     "execution_count": 3,
     "metadata": {},
     "output_type": "execute_result"
    }
   ],
   "source": [
    "#initial matrix\n",
    "matrix= pd.read_csv('formatZadania.csv',header=None, sep=' ',skiprows=1, nrows=size,dtype=np.float32).values\n",
    "matrix"
   ]
  },
  {
   "cell_type": "code",
   "execution_count": 4,
   "metadata": {},
   "outputs": [
    {
     "data": {
      "text/plain": [
       "array([[ 6.,  1.,  1.,  1.,  1.],\n",
       "       [ 1., 12.,  1.,  0.,  1.],\n",
       "       [ 0.,  1., 32.,  1.,  0.],\n",
       "       [ 1.,  1.,  0.,  4.,  0.],\n",
       "       [ 1.,  0.,  1.,  0.,  3.]], dtype=float32)"
      ]
     },
     "execution_count": 4,
     "metadata": {},
     "output_type": "execute_result"
    }
   ],
   "source": [
    "_A = matrix[0:size, 0:size].copy()\n",
    "_A"
   ]
  },
  {
   "cell_type": "code",
   "execution_count": 5,
   "metadata": {},
   "outputs": [
    {
     "data": {
      "text/plain": [
       "array([10., 15., 34.,  6.,  5.], dtype=float32)"
      ]
     },
     "execution_count": 5,
     "metadata": {},
     "output_type": "execute_result"
    }
   ],
   "source": [
    "_B = matrix[0:size, size:size+1].copy()\n",
    "_B.reshape(1,-1)[0]"
   ]
  },
  {
   "cell_type": "code",
   "execution_count": 6,
   "metadata": {},
   "outputs": [
    {
     "data": {
      "text/plain": [
       "array([0., 0., 0., 0., 0.])"
      ]
     },
     "execution_count": 6,
     "metadata": {},
     "output_type": "execute_result"
    }
   ],
   "source": [
    "X = np.zeros(len(_B),float)\n",
    "rez = np.zeros(len(_B),float)\n",
    "rez"
   ]
  },
  {
   "cell_type": "code",
   "execution_count": 7,
   "metadata": {},
   "outputs": [],
   "source": [
    "n = len(_B)\n",
    "A = _A.copy()"
   ]
  },
  {
   "cell_type": "code",
   "execution_count": 8,
   "metadata": {},
   "outputs": [
    {
     "name": "stdout",
     "output_type": "stream",
     "text": [
      "diagonalna: [ 6. 12. 32.  4.  3.]\n",
      "czy diagonalna jest dominujaca: True\n"
     ]
    }
   ],
   "source": [
    "#SPRAWDZANIE CZY DIAGONALNA JEST DOMINUJĄCA\n",
    "iterator = 0\n",
    "D = np.diag(A) #diagonalna macierzy A\n",
    "isItDominant = False\n",
    "A = A-np.diagflat(D)\n",
    "for i in range(n) :\n",
    "    for j in range(n) :\n",
    "        if np.fabs(A[i,j]) < np.fabs(D[i]) :\n",
    "            iterator = iterator+1\n",
    "if iterator == n*n :\n",
    "    isItDominant = True\n",
    "       \n",
    "print(\"diagonalna:\",D)\n",
    "print(\"czy diagonalna jest dominujaca:\",isItDominant) "
   ]
  },
  {
   "cell_type": "markdown",
   "metadata": {},
   "source": [
    "### w tym przypadku diagonalna jest dominująca"
   ]
  },
  {
   "cell_type": "code",
   "execution_count": 9,
   "metadata": {},
   "outputs": [],
   "source": [
    "stop = 1\n",
    "A, B = _A.copy(), _B.copy()"
   ]
  },
  {
   "cell_type": "code",
   "execution_count": 10,
   "metadata": {},
   "outputs": [
    {
     "name": "stdout",
     "output_type": "stream",
     "text": [
      "wynik dla jednego powtorzenia:  [1.66666675 1.25       1.0625     1.5        1.66666675]\n"
     ]
    }
   ],
   "source": [
    "## DLA 1 POWTÓRZENIA\n",
    "for stopwatch in range(stop): #ogranicznik wykonywania się pętli \n",
    "    for i in range(n):\n",
    "        sum = 0 #inicjalizacja sumy, wartość startowa = 0\n",
    "        for j in range(n):\n",
    "            if j != i :\n",
    "                sum = sum + A[i,j]*X[j]\n",
    "        rez[i] = -1/A[i,i]*(sum - B[i])\n",
    "    X = rez\n",
    "print(\"wynik dla jednego powtorzenia: \" ,rez)"
   ]
  },
  {
   "cell_type": "code",
   "execution_count": 11,
   "metadata": {},
   "outputs": [],
   "source": [
    "stop = 10\n",
    "A, B = _A.copy(), _B.copy()"
   ]
  },
  {
   "cell_type": "code",
   "execution_count": 12,
   "metadata": {},
   "outputs": [
    {
     "name": "stdout",
     "output_type": "stream",
     "text": [
      "wynik dla 10 powtorzen:  [1. 1. 1. 1. 1.]\n"
     ]
    }
   ],
   "source": [
    "## DLA 10 POWTÓRZEŃ\n",
    "for stopwatch in range(stop):\n",
    "    for i in range(n):\n",
    "        sum = 0 \n",
    "        for j in range(n):\n",
    "            if j != i :\n",
    "                sum = sum + A[i,j]*X[j]\n",
    "        rez[i] = -1/A[i,i]*(sum - B[i])\n",
    "    X = rez\n",
    "print(\"wynik dla 10 powtorzen: \" ,rez)"
   ]
  },
  {
   "cell_type": "code",
   "execution_count": 13,
   "metadata": {},
   "outputs": [],
   "source": [
    "stop = 100\n",
    "A, B = _A.copy(), _B.copy()"
   ]
  },
  {
   "cell_type": "code",
   "execution_count": 14,
   "metadata": {},
   "outputs": [
    {
     "name": "stdout",
     "output_type": "stream",
     "text": [
      "wynik dla 100 powtorzen:  [1. 1. 1. 1. 1.]\n"
     ]
    }
   ],
   "source": [
    "## DLA 100 POWTÓRZEŃ\n",
    "for stopwatch in range(stop): \n",
    "    for i in range(n):\n",
    "        sum = 0\n",
    "        for j in range(n):\n",
    "            if j != i :\n",
    "                sum = sum + A[i,j]*X[j]\n",
    "        rez[i] = -1/A[i,i]*(sum - B[i])\n",
    "    X = rez\n",
    "print(\"wynik dla 100 powtorzen: \" ,rez)"
   ]
  },
  {
   "cell_type": "code",
   "execution_count": 15,
   "metadata": {},
   "outputs": [],
   "source": [
    "A, B = _A.copy(), _B.copy()\n",
    "minimum = 0.000001"
   ]
  },
  {
   "cell_type": "code",
   "execution_count": 16,
   "metadata": {},
   "outputs": [
    {
     "name": "stdout",
     "output_type": "stream",
     "text": [
      "wynik:  [1. 1. 1. 1. 1.]\n"
     ]
    }
   ],
   "source": [
    "## Z PRZERWANIEM dla danej dokładności \n",
    "for stopwatch in range(stop): \n",
    "    breaker = True\n",
    "    for i in range(n):\n",
    "        sum = 0\n",
    "        for j in range(n):\n",
    "            if j != i :\n",
    "                sum = sum + A[i,j]*X[j]\n",
    "        rez[i] = -1/A[i,i]*(sum - B[i])\n",
    "        if np.fabs(rez[i] - X[i]) > minimum:\n",
    "            breaker = False\n",
    "    if breaker:\n",
    "        break\n",
    "    X = rez\n",
    "print(\"wynik: \" ,rez)"
   ]
  },
  {
   "cell_type": "code",
   "execution_count": 17,
   "metadata": {},
   "outputs": [],
   "source": [
    "A, B = _A.copy(), _B.copy()"
   ]
  },
  {
   "cell_type": "code",
   "execution_count": 18,
   "metadata": {},
   "outputs": [
    {
     "name": "stdout",
     "output_type": "stream",
     "text": [
      "wynik poprawny (obliczony przez numpy):\n",
      "[1. 1. 1. 1. 1.]\n"
     ]
    }
   ],
   "source": [
    "print(\"wynik poprawny (obliczony przez numpy):\" )\n",
    "print(np.linalg.solve(A,B).reshape(1,-1)[0])"
   ]
  },
  {
   "cell_type": "markdown",
   "metadata": {},
   "source": [
    "Jak widać wynik jest poprawny"
   ]
  },
  {
   "cell_type": "markdown",
   "metadata": {},
   "source": [
    "WNIOSKI: Dokładność rozwiązania zależy od ilość powtórzeń oraz ważne jest żeby zachodziła diagonalna domincja "
   ]
  }
 ],
 "metadata": {
  "kernelspec": {
   "display_name": "Python 3",
   "language": "python",
   "name": "python3"
  },
  "language_info": {
   "codemirror_mode": {
    "name": "ipython",
    "version": 3
   },
   "file_extension": ".py",
   "mimetype": "text/x-python",
   "name": "python",
   "nbconvert_exporter": "python",
   "pygments_lexer": "ipython3",
   "version": "3.7.4"
  }
 },
 "nbformat": 4,
 "nbformat_minor": 2
}
