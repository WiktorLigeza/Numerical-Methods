{
 "cells": [
  {
   "cell_type": "markdown",
   "metadata": {},
   "source": [
    "# Wiktor Ligęza IO gr.lab 2"
   ]
  },
  {
   "cell_type": "code",
   "execution_count": 1,
   "metadata": {},
   "outputs": [],
   "source": [
    "import numpy as np\n",
    "import pandas as pd\n",
    "import matplotlib.pyplot as plt\n",
    "import sympy as sy\n",
    "from sympy.parsing.sympy_parser import (parse_expr,\n",
    "standard_transformations, implicit_application)"
   ]
  },
  {
   "cell_type": "markdown",
   "metadata": {},
   "source": [
    "#### wprowadzanie danych początkowych"
   ]
  },
  {
   "cell_type": "code",
   "execution_count": 2,
   "metadata": {},
   "outputs": [
    {
     "name": "stdout",
     "output_type": "stream",
     "text": [
      "Wprowadź wartość tol: 0.000001\n"
     ]
    }
   ],
   "source": [
    "tol = np.float32(input(\"Wprowadź wartość tol: \"))"
   ]
  },
  {
   "cell_type": "code",
   "execution_count": 3,
   "metadata": {},
   "outputs": [
    {
     "name": "stdout",
     "output_type": "stream",
     "text": [
      "Podaj maksymalną ilość iteracji: 100\n"
     ]
    }
   ],
   "source": [
    "iloscIteracji = int(input(\"Podaj maksymalną ilość iteracji: \"))"
   ]
  },
  {
   "cell_type": "markdown",
   "metadata": {},
   "source": [
    "# Stycznych"
   ]
  },
  {
   "cell_type": "markdown",
   "metadata": {},
   "source": [
    "#### wprowadzanie funkcji"
   ]
  },
  {
   "cell_type": "code",
   "execution_count": 55,
   "metadata": {},
   "outputs": [
    {
     "name": "stdout",
     "output_type": "stream",
     "text": [
      "(np: 2^2 = 2**2, 2a = 2*a, cot(a) = cot a)podaj funkcję: 2*x**3-9.5*x+7.5\n"
     ]
    },
    {
     "data": {
      "text/latex": [
       "$\\displaystyle 2 x^{3} - 9.5 x + 7.5$"
      ],
      "text/plain": [
       "2*x**3 - 9.5*x + 7.5"
      ]
     },
     "execution_count": 55,
     "metadata": {},
     "output_type": "execute_result"
    }
   ],
   "source": [
    "funkcja = input(\"(np: 2^2 = 2**2, 2a = 2*a, cot(a) = cot a)podaj funkcję: \")\n",
    "transformations = standard_transformations + (implicit_application,)\n",
    "y = parse_expr(funkcja, transformations=transformations)\n",
    "y"
   ]
  },
  {
   "cell_type": "markdown",
   "metadata": {},
   "source": [
    "#### obliczanie pochodnej"
   ]
  },
  {
   "cell_type": "code",
   "execution_count": 56,
   "metadata": {},
   "outputs": [
    {
     "data": {
      "text/latex": [
       "$\\displaystyle 6 x^{2} - 9.5$"
      ],
      "text/plain": [
       "6*x**2 - 9.5"
      ]
     },
     "execution_count": 56,
     "metadata": {},
     "output_type": "execute_result"
    }
   ],
   "source": [
    "yprim = sy.Derivative(y)\n",
    "yprim = yprim.doit()\n",
    "yprim"
   ]
  },
  {
   "cell_type": "code",
   "execution_count": 57,
   "metadata": {},
   "outputs": [],
   "source": [
    "x = sy.symbols(\"x\")\n",
    "y = sy.lambdify(x, y)\n",
    "yprim = sy.lambdify(x, yprim)"
   ]
  },
  {
   "cell_type": "markdown",
   "metadata": {},
   "source": [
    "#### wprowadzanie punktu zgadywanego"
   ]
  },
  {
   "cell_type": "code",
   "execution_count": 58,
   "metadata": {},
   "outputs": [
    {
     "name": "stdout",
     "output_type": "stream",
     "text": [
      "Wprowadź wartość x: 5\n"
     ]
    }
   ],
   "source": [
    "x = np.float32(input(\"Wprowadź wartość x: \"))"
   ]
  },
  {
   "cell_type": "code",
   "execution_count": 75,
   "metadata": {},
   "outputs": [],
   "source": [
    "def metodaNewtona_Raphsona(y,yprim,x,tol,iloscIteracji):\n",
    "    green = [[x,y(x)]] #x1\n",
    "    yellow =[] #root\n",
    "    violet =[] #xprim\n",
    "    for i in range(iloscIteracji):\n",
    "        xprim = x - y(x)/yprim(x)\n",
    "        violet.append([xprim,y(xprim)])\n",
    "        if abs(xprim-x) < tol: \n",
    "            break\n",
    "        x = xprim\n",
    "        \n",
    "    #output\n",
    "    print(\"pierwiastek znajduje sie w x: \",xprim)\n",
    "    print(\"ilosc iteracji: \", i)\n",
    "    yellow.append([xprim,y(xprim)])\n",
    "    #plot\n",
    "    x_list = np.linspace(0,6,100)\n",
    "    x_list[0] = 0.00001\n",
    "    fplot = list(map(y, x_list))\n",
    "    plt.plot(x_list, fplot)\n",
    "    #x\n",
    "    x, y = list(zip(*green))\n",
    "    plt.scatter(x, y, c='r')\n",
    "    #xprim           \n",
    "    x, y = list(zip(*violet))\n",
    "    plt.scatter(x, y, c='m')\n",
    "    #result           \n",
    "    x, y = list(zip(*yellow))\n",
    "    plt.scatter(x, y, c='y')"
   ]
  },
  {
   "cell_type": "markdown",
   "metadata": {},
   "source": [
    "#### wynik"
   ]
  },
  {
   "cell_type": "code",
   "execution_count": 76,
   "metadata": {},
   "outputs": [
    {
     "name": "stdout",
     "output_type": "stream",
     "text": [
      "pierwiastek znajduje sie w x:  1.4999999999999998\n",
      "ilosc iteracji:  8\n"
     ]
    },
    {
     "data": {
      "image/png": "[encoded data removed]",
      "text/plain": [
       "<Figure size 432x288 with 1 Axes>"
      ]
     },
     "metadata": {
      "needs_background": "light"
     },
     "output_type": "display_data"
    }
   ],
   "source": [
    "metodaNewtona_Raphsona(y,yprim,x,tol,iloscIteracji)"
   ]
  },
  {
   "cell_type": "markdown",
   "metadata": {},
   "source": [
    "Kolor czerowny x, żółty wynik, fioletowy x'"
   ]
  },
  {
   "cell_type": "markdown",
   "metadata": {},
   "source": [
    "# Siecznych"
   ]
  },
  {
   "cell_type": "markdown",
   "metadata": {},
   "source": [
    "#### wprowadzanie danych"
   ]
  },
  {
   "cell_type": "code",
   "execution_count": 83,
   "metadata": {},
   "outputs": [
    {
     "name": "stdout",
     "output_type": "stream",
     "text": [
      "Wprowadź wartość x1: 0\n"
     ]
    }
   ],
   "source": [
    "x1 = np.float32(input(\"Wprowadź wartość x1: \"))"
   ]
  },
  {
   "cell_type": "code",
   "execution_count": 84,
   "metadata": {},
   "outputs": [
    {
     "name": "stdout",
     "output_type": "stream",
     "text": [
      "Wprowadź wartość x2: 2\n"
     ]
    }
   ],
   "source": [
    "x2 = np.float32(input(\"Wprowadź wartość x2: \"))"
   ]
  },
  {
   "cell_type": "markdown",
   "metadata": {},
   "source": [
    "#### wprowadzanie funkcji"
   ]
  },
  {
   "cell_type": "code",
   "execution_count": 79,
   "metadata": {},
   "outputs": [
    {
     "name": "stdout",
     "output_type": "stream",
     "text": [
      "(np: 2^2 = 2**2, 2a = 2*a, cot(a) = cot a)podaj funkcję: 2*x**2-5*x+3\n"
     ]
    },
    {
     "data": {
      "text/latex": [
       "$\\displaystyle 2 x^{2} - 5 x + 3$"
      ],
      "text/plain": [
       "2*x**2 - 5*x + 3"
      ]
     },
     "execution_count": 79,
     "metadata": {},
     "output_type": "execute_result"
    }
   ],
   "source": [
    "funkcja = input(\"(np: 2^2 = 2**2, 2a = 2*a, cot(a) = cot a)podaj funkcję: \")\n",
    "transformations = standard_transformations + (implicit_application,)\n",
    "y = parse_expr(funkcja, transformations=transformations)\n",
    "y"
   ]
  },
  {
   "cell_type": "code",
   "execution_count": 80,
   "metadata": {},
   "outputs": [],
   "source": [
    "x = sy.symbols(\"x\")\n",
    "y = sy.lambdify(x, y)"
   ]
  },
  {
   "cell_type": "code",
   "execution_count": 96,
   "metadata": {},
   "outputs": [],
   "source": [
    "def metodaEulera(y,x1,x2,tol,iloscIteracji):\n",
    "    red = [[x1,y(x1)]] #x2\n",
    "    green = [[x2,y(x2)]] #x1\n",
    "    yellow =[] #root\n",
    "    violet =[] #xprim\n",
    "    for i in range(iloscIteracji):\n",
    "        xprim = x2-(x2-x1)/(y(x2)-y(x1))*y(x2)\n",
    "        violet.append([xprim,y(xprim)])\n",
    "        if abs(xprim-x2) < tol:\n",
    "            break\n",
    "        else: \n",
    "            x1 = x2\n",
    "            x2 = xprim\n",
    "            \n",
    "    #output\n",
    "    print(\"pierwiastek znajduje sie w x: \",xprim)\n",
    "    print(\"ilosc iteracji: \", i)\n",
    "    yellow.append([xprim,y(xprim)])\n",
    "    #plot\n",
    "    x_list = np.linspace(0,3,100)\n",
    "    x_list[0] = 0.00001\n",
    "    fplot = list(map(y, x_list))\n",
    "    plt.plot(x_list, fplot)\n",
    "    #x1\n",
    "    x, y = list(zip(*green))\n",
    "    plt.scatter(x, y, c='r')\n",
    "    #x2\n",
    "    x, y = list(zip(*red))\n",
    "    plt.scatter(x, y, c='g')\n",
    "    #xprim           \n",
    "    x, y = list(zip(*violet))\n",
    "    plt.scatter(x, y, c='m')\n",
    "     #result           \n",
    "    x, y = list(zip(*yellow))\n",
    "    plt.scatter(x, y, c='y')"
   ]
  },
  {
   "cell_type": "markdown",
   "metadata": {},
   "source": [
    "#### wynik"
   ]
  },
  {
   "cell_type": "code",
   "execution_count": 97,
   "metadata": {},
   "outputs": [
    {
     "name": "stdout",
     "output_type": "stream",
     "text": [
      "pierwiastek znajduje sie w x:  1.5000000000134721\n",
      "ilosc iteracji:  8\n"
     ]
    },
    {
     "data": {
      "image/png": "[encoded data removed]",
      "text/plain": [
       "<Figure size 432x288 with 1 Axes>"
      ]
     },
     "metadata": {
      "needs_background": "light"
     },
     "output_type": "display_data"
    }
   ],
   "source": [
    "metodaEulera(y,x1,x2,tol,iloscIteracji)"
   ]
  },
  {
   "cell_type": "markdown",
   "metadata": {},
   "source": [
    "Kolor zielony oznacza x1, czerowny x2, żółty wynik, fioletowy x'"
   ]
  },
  {
   "cell_type": "markdown",
   "metadata": {},
   "source": [
    "### test data\n",
    "tol: 0.000001\n",
    "iteracje: 100\n",
    "##### styczne\n",
    "x: 5\n",
    "y: 2*x**3-9.5*x+7.5\n",
    "##### sieczne\n",
    "x1: 0\n",
    "x2: 2\n",
    "y: 2*x**2-5*x+3"
   ]
  }
 ],
 "metadata": {
  "kernelspec": {
   "display_name": "Python 3",
   "language": "python",
   "name": "python3"
  },
  "language_info": {
   "codemirror_mode": {
    "name": "ipython",
    "version": 3
   },
   "file_extension": ".py",
   "mimetype": "text/x-python",
   "name": "python",
   "nbconvert_exporter": "python",
   "pygments_lexer": "ipython3",
   "version": "3.7.4"
  }
 },
 "nbformat": 4,
 "nbformat_minor": 2
}
