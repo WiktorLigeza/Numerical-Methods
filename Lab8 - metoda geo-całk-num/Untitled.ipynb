{
 "cells": [
  {
   "cell_type": "markdown",
   "metadata": {},
   "source": [
    "# Wiktor Ligęza IO gr.lab 2\n"
   ]
  },
  {
   "cell_type": "code",
   "execution_count": 1,
   "metadata": {},
   "outputs": [],
   "source": [
    "import numpy as np\n",
    "import pandas as pd\n",
    "import matplotlib.pyplot as plt\n",
    "import sympy as sy\n",
    "from sympy.parsing.sympy_parser import (parse_expr,\n",
    "standard_transformations, implicit_application)"
   ]
  },
  {
   "cell_type": "markdown",
   "metadata": {},
   "source": [
    "### DANE"
   ]
  },
  {
   "cell_type": "code",
   "execution_count": 124,
   "metadata": {},
   "outputs": [
    {
     "name": "stdout",
     "output_type": "stream",
     "text": [
      "(np: 2^2 = 2**2, 2a = 2*a, cot(a) = cot a)podaj funkcję: x * sin x\n"
     ]
    },
    {
     "data": {
      "text/latex": [
       "$\\displaystyle x \\sin{\\left(x \\right)}$"
      ],
      "text/plain": [
       "x*sin(x)"
      ]
     },
     "execution_count": 124,
     "metadata": {},
     "output_type": "execute_result"
    }
   ],
   "source": [
    "funkcja = input(\"(np: 2^2 = 2**2, 2a = 2*a, cot(a) = cot a)podaj funkcję: \")\n",
    "transformations = standard_transformations + (implicit_application,)\n",
    "f1 = parse_expr(funkcja, transformations=transformations)\n",
    "f1"
   ]
  },
  {
   "cell_type": "code",
   "execution_count": 125,
   "metadata": {},
   "outputs": [
    {
     "name": "stdout",
     "output_type": "stream",
     "text": [
      "Podaj ilość podziałów: 50000\n"
     ]
    }
   ],
   "source": [
    "ilośćPodziałów = int(input(\"Podaj ilość podziałów: \"))"
   ]
  },
  {
   "cell_type": "code",
   "execution_count": 130,
   "metadata": {},
   "outputs": [
    {
     "name": "stdout",
     "output_type": "stream",
     "text": [
      "podaj przedział(np: pi/2,0): 0,pi/2\n"
     ]
    },
    {
     "data": {
      "text/plain": [
       "[0.0, 1.5707963267948966]"
      ]
     },
     "execution_count": 130,
     "metadata": {},
     "output_type": "execute_result"
    }
   ],
   "source": [
    "przedział = input(\"podaj przedział(np: pi/2,0): \").split(\",\")\n",
    "transformations = standard_transformations + (implicit_application,)\n",
    "przedział[0] = parse_expr(przedział[0], transformations=transformations)\n",
    "przedział[1] = parse_expr(przedział[1], transformations=transformations)\n",
    "przedział[0] = np.float64(przedział[0])\n",
    "przedział[1] = np.float64(przedział[1])\n",
    "przedział"
   ]
  },
  {
   "cell_type": "markdown",
   "metadata": {},
   "source": [
    "##### wartość \"skoku\""
   ]
  },
  {
   "cell_type": "code",
   "execution_count": 131,
   "metadata": {},
   "outputs": [
    {
     "data": {
      "text/plain": [
       "3.141592653589793e-05"
      ]
     },
     "execution_count": 131,
     "metadata": {},
     "output_type": "execute_result"
    }
   ],
   "source": [
    "delta = (przedział[1]-przedział[0])/ilośćPodziałów\n",
    "delta"
   ]
  },
  {
   "cell_type": "code",
   "execution_count": 132,
   "metadata": {},
   "outputs": [],
   "source": [
    "x = sy.symbols(\"x\")\n",
    "f = sy.lambdify(x, f1)"
   ]
  },
  {
   "cell_type": "markdown",
   "metadata": {},
   "source": [
    "### METODA PROSTOKĄTÓW"
   ]
  },
  {
   "cell_type": "code",
   "execution_count": 151,
   "metadata": {},
   "outputs": [
    {
     "name": "stdout",
     "output_type": "stream",
     "text": [
      "wynik:  0.9999753260712422\n"
     ]
    }
   ],
   "source": [
    "suma = 0\n",
    "for i in range(ilośćPodziałów):\n",
    "    podstawa = (przedział[0]+(i+1)*delta)-(przedział[0]+i*delta)\n",
    "    suma += f(przedział[0]+i*delta)*podstawa\n",
    "wynik1 = suma\n",
    "print(\"wynik: \",suma)"
   ]
  },
  {
   "cell_type": "markdown",
   "metadata": {},
   "source": [
    "### METODA TRAPEZÓW"
   ]
  },
  {
   "cell_type": "code",
   "execution_count": 152,
   "metadata": {},
   "outputs": [
    {
     "name": "stdout",
     "output_type": "stream",
     "text": [
      "wynik:  1.0000000000822453\n"
     ]
    }
   ],
   "source": [
    "suma = (f(przedział[0])+f(przedział[1]))*0.5\n",
    "for i in range(ilośćPodziałów):\n",
    "    suma += f(przedział[0]+i*delta)\n",
    "wynik2 = delta*suma\n",
    "print(\"wynik: \",wynik)"
   ]
  },
  {
   "cell_type": "markdown",
   "metadata": {},
   "source": [
    "### WNIOSKI"
   ]
  },
  {
   "cell_type": "code",
   "execution_count": 153,
   "metadata": {},
   "outputs": [
    {
     "name": "stdout",
     "output_type": "stream",
     "text": [
      "8.22453216642316e-11 < 2.4673928757823482e-05\n"
     ]
    }
   ],
   "source": [
    "# wynik analityczny = 1\n",
    "wynik1 = abs(wynik1-1) #metoda prostokątów \n",
    "wynik2 = abs(wynik2-1) #metoda trapezów\n",
    "if(wynik2 < wynik1):\n",
    "    print(wynik2,\"<\", wynik1)"
   ]
  },
  {
   "cell_type": "markdown",
   "metadata": {},
   "source": [
    "Jak widać dla tej samej liczby podziałów metoda trapezów jest bardziej dokładna (bliższa, w tym przypadku, wynikowi równemu 1).\n",
    "Na wynik ma wpływ również liczba przedziałów, im większa jest to liczba, tym dokładniejszy będzie to wynik."
   ]
  }
 ],
 "metadata": {
  "kernelspec": {
   "display_name": "Python 3",
   "language": "python",
   "name": "python3"
  },
  "language_info": {
   "codemirror_mode": {
    "name": "ipython",
    "version": 3
   },
   "file_extension": ".py",
   "mimetype": "text/x-python",
   "name": "python",
   "nbconvert_exporter": "python",
   "pygments_lexer": "ipython3",
   "version": "3.7.4"
  }
 },
 "nbformat": 4,
 "nbformat_minor": 2
}
