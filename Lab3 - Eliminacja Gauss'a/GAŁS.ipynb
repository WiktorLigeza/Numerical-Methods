{
 "cells": [
  {
   "cell_type": "markdown",
   "metadata": {},
   "source": [
    "## Wiktor Ligęza IO gr.lab 2 "
   ]
  },
  {
   "cell_type": "markdown",
   "metadata": {},
   "source": [
    "typ: sprawozdanie"
   ]
  },
  {
   "cell_type": "markdown",
   "metadata": {},
   "source": [
    "temat: metoda eliminacji Gaussa"
   ]
  },
  {
   "cell_type": "markdown",
   "metadata": {},
   "source": [
    "środowisko: jupyter \n"
   ]
  },
  {
   "cell_type": "markdown",
   "metadata": {},
   "source": [
    "język: Python"
   ]
  },
  {
   "cell_type": "markdown",
   "metadata": {},
   "source": [
    "zadanie: program wczytuje dane z pliku tekstowego i przy użyciu metody eliminacji GAUSSA rozwiązuje układ równań"
   ]
  },
  {
   "cell_type": "code",
   "execution_count": 15,
   "metadata": {},
   "outputs": [],
   "source": [
    "import numpy as np\n",
    "import pandas as pd\n",
    "import matplotlib.pyplot as plt"
   ]
  },
  {
   "cell_type": "markdown",
   "metadata": {},
   "source": [
    "#### WCZYTYWANIE DANYCH Z PLIKU TEKSTOWEGO"
   ]
  },
  {
   "cell_type": "code",
   "execution_count": 2,
   "metadata": {
    "scrolled": true
   },
   "outputs": [
    {
     "data": {
      "text/plain": [
       "array([[  0.,   3., -32.,   3.,  15.],\n",
       "       [  0.,   3.,   4.,   1.,   2.],\n",
       "       [  6.,   2.,   0.,   2.,  -1.],\n",
       "       [  9.,   1.,   4.,   0.,   4.],\n",
       "       [  3.,   4.,   1.,  -2.,   7.]], dtype=float32)"
      ]
     },
     "execution_count": 2,
     "metadata": {},
     "output_type": "execute_result"
    }
   ],
   "source": [
    "_A = pd.read_csv('A.csv',header=None, sep=' ', dtype=np.float32).values\n",
    "_A"
   ]
  },
  {
   "cell_type": "code",
   "execution_count": 3,
   "metadata": {},
   "outputs": [
    {
     "data": {
      "text/plain": [
       "array([ 7., 24., 12.,  7.,  6.], dtype=float32)"
      ]
     },
     "execution_count": 3,
     "metadata": {},
     "output_type": "execute_result"
    }
   ],
   "source": [
    "_B = pd.read_csv('B.csv',header=None, sep=' ', dtype=np.float32).values.reshape(1,-1)[0]\n",
    "_B"
   ]
  },
  {
   "cell_type": "code",
   "execution_count": 18,
   "metadata": {},
   "outputs": [],
   "source": [
    "A, B = _A.copy(), _B.copy() #kopiowanie tablic dla porównywalnych wyników "
   ]
  },
  {
   "cell_type": "markdown",
   "metadata": {},
   "source": [
    "#### DEFINICJE"
   ]
  },
  {
   "cell_type": "code",
   "execution_count": 5,
   "metadata": {},
   "outputs": [],
   "source": [
    "n = B.shape[0]\n",
    "_X = np.zeros(n,float)\n",
    "A, B, X = _A.copy(), _B.copy(), _X.copy()"
   ]
  },
  {
   "cell_type": "markdown",
   "metadata": {},
   "source": [
    "#### ELIMINACJA BEZ PIVOTINGU"
   ]
  },
  {
   "cell_type": "code",
   "execution_count": 6,
   "metadata": {},
   "outputs": [
    {
     "name": "stdout",
     "output_type": "stream",
     "text": [
      "macierz A:\n",
      " [[  0.   3. -32.   3.  15.]\n",
      " [  0.   3.   4.   1.   2.]\n",
      " [  0.   0.  36.  -2. -13.]\n",
      " [  0.   0.   0.   0.   0.]\n",
      " [  0.   0.   0.   0.   0.]] \n",
      "\n",
      "macierz B:\n",
      " [ 7. 24. 17.  0.  0.]\n"
     ]
    }
   ],
   "source": [
    "for k in range(n-1):\n",
    "    for i in range(k+1,n):\n",
    "        if A[i,k] == 0:\n",
    "            continue #jeżeli już jest 0, pomijamy\n",
    "        x = A[k,k]/A[i,k]\n",
    "        for j in range(k,n):\n",
    "            A[i,j] = A[k,j] - A[i,j]*x\n",
    "        B[i]=B[k]-B[i]*x\n",
    "print(\"macierz A:\\n\",A,\"\\n\")\n",
    "print(\"macierz B:\\n\",B)            "
   ]
  },
  {
   "cell_type": "code",
   "execution_count": 7,
   "metadata": {},
   "outputs": [
    {
     "name": "stdout",
     "output_type": "stream",
     "text": [
      "macierz  X:\n",
      " [nan nan nan nan nan]\n"
     ]
    },
    {
     "name": "stderr",
     "output_type": "stream",
     "text": [
      "C:\\Users\\wikto\\Anaconda3\\lib\\site-packages\\ipykernel_launcher.py:2: RuntimeWarning: invalid value encountered in float_scalars\n",
      "  \n"
     ]
    }
   ],
   "source": [
    "#PODSTAWIENIA \n",
    "X[n-1] = B[n-1]/A[n-1,n-1] \n",
    "for i in range(n-2,-1,-1):\n",
    "    y = 0\n",
    "    for j in range(i+1,n):\n",
    "        y += A[i,j] * X[j]\n",
    "    X[i] = (B[i] - y) / A[i,i]\n",
    "print(\"macierz  X:\\n\",X)"
   ]
  },
  {
   "cell_type": "markdown",
   "metadata": {},
   "source": [
    "jak widać powyżej, w przypadku macierzy na której diagonalnej znajduje/znajdują się \n",
    "zero/a wynik jest niepoprawny, ze względu na dzielenie przez zero "
   ]
  },
  {
   "cell_type": "markdown",
   "metadata": {},
   "source": [
    "#### ELIMINACJA Z PIVOTINGIEM"
   ]
  },
  {
   "cell_type": "code",
   "execution_count": 9,
   "metadata": {},
   "outputs": [],
   "source": [
    "A, B, X = _A.copy(), _B.copy(), _X.copy()"
   ]
  },
  {
   "cell_type": "code",
   "execution_count": 10,
   "metadata": {},
   "outputs": [
    {
     "name": "stdout",
     "output_type": "stream",
     "text": [
      "macierz A:\n",
      " [[ 6.0000000e+00  2.0000000e+00  0.0000000e+00  2.0000000e+00\n",
      "  -1.0000000e+00]\n",
      " [ 0.0000000e+00  3.0000000e+00  4.0000000e+00  1.0000000e+00\n",
      "   2.0000000e+00]\n",
      " [ 0.0000000e+00  0.0000000e+00  3.6000000e+01 -2.0000000e+00\n",
      "  -1.3000000e+01]\n",
      " [ 0.0000000e+00 -2.3841858e-07  0.0000000e+00  1.0600000e+01\n",
      "  -4.9900002e+01]\n",
      " [ 0.0000000e+00  0.0000000e+00  0.0000000e+00  0.0000000e+00\n",
      "  -3.8664001e+01]] \n",
      "\n",
      "macierz B:\n",
      " [ 12.        24.        17.        -9.99999  -67.451996]\n"
     ]
    }
   ],
   "source": [
    "for k in range(n-1):\n",
    "    if np.fabs(A[k,k]) == 0: #jeżeli wystąpi 0 na diagonalnej, zamieniamy wiersze aby uniknąć dzielenia przez 0\n",
    "        for i in range (k+1,n):\n",
    "            if np.fabs(A[i,k]) > np.fabs(A[k,k]):\n",
    "                A[[k,i]] = A[[i,k]]\n",
    "                B[[k,i]] = B[[i,k]]\n",
    "                break\n",
    "    for i in range(k+1,n):\n",
    "        if A[i,k] == 0:\n",
    "            continue\n",
    "        x = A[k,k]/A[i,k]\n",
    "        for j in range(k,n):\n",
    "            A[i,j] = A[k,j] - A[i,j]*x\n",
    "        B[i]=B[k]-B[i]*x\n",
    "print(\"macierz A:\\n\",A,\"\\n\")\n",
    "print(\"macierz B:\\n\",B)      "
   ]
  },
  {
   "cell_type": "code",
   "execution_count": 11,
   "metadata": {},
   "outputs": [
    {
     "name": "stdout",
     "output_type": "stream",
     "text": [
      "macierz  X:\n",
      " [-0.93425422  2.40580387  1.50605211  7.26924301  1.74456847]\n"
     ]
    }
   ],
   "source": [
    "#PODSTAWIENIA \n",
    "X[n-1] = B[n-1]/A[n-1,n-1] \n",
    "for i in range(n-2,-1,-1):\n",
    "    y = 0\n",
    "    for j in range(i+1,n):\n",
    "        y += A[i,j] * X[j]\n",
    "    X[i] = (B[i] - y) / A[i,i]\n",
    "print(\"macierz  X:\\n\",X)"
   ]
  },
  {
   "cell_type": "code",
   "execution_count": 12,
   "metadata": {},
   "outputs": [
    {
     "name": "stdout",
     "output_type": "stream",
     "text": [
      "wynik poprawny (obliczony przez numpy):\n",
      "[-0.9342541  2.405804   1.5060521  7.269243   1.7445686]\n"
     ]
    }
   ],
   "source": [
    "######## poprawny wynik\n",
    "print(\"wynik poprawny (obliczony przez numpy):\" )\n",
    "print(np.linalg.solve(_A,_B))"
   ]
  },
  {
   "cell_type": "markdown",
   "metadata": {},
   "source": [
    "jak widać wynik jest poprawny"
   ]
  },
  {
   "cell_type": "markdown",
   "metadata": {},
   "source": [
    "Uwagi: wygląd macierzy A oraz B może być nieczytelny ze względu na użycie dość dużego typu zmiennej(float64), oraz randomowych liczb.\n"
   ]
  },
  {
   "cell_type": "code",
   "execution_count": null,
   "metadata": {},
   "outputs": [],
   "source": []
  }
 ],
 "metadata": {
  "kernelspec": {
   "display_name": "Python 3",
   "language": "python",
   "name": "python3"
  },
  "language_info": {
   "codemirror_mode": {
    "name": "ipython",
    "version": 3
   },
   "file_extension": ".py",
   "mimetype": "text/x-python",
   "name": "python",
   "nbconvert_exporter": "python",
   "pygments_lexer": "ipython3",
   "version": "3.7.4"
  }
 },
 "nbformat": 4,
 "nbformat_minor": 4
}
