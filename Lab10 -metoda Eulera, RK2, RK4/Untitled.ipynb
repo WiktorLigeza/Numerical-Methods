{
 "cells": [
  {
   "cell_type": "markdown",
   "metadata": {},
   "source": [
    "# Wiktor Ligęza IO gr.lab 2"
   ]
  },
  {
   "cell_type": "code",
   "execution_count": 2,
   "metadata": {},
   "outputs": [],
   "source": [
    "import numpy as np\n",
    "import pandas as pd\n",
    "import matplotlib.pyplot as plt\n",
    "import sympy as sy\n",
    "from sympy.parsing.sympy_parser import (parse_expr,\n",
    "standard_transformations, implicit_application)\n",
    "from sympy.abc import x, y"
   ]
  },
  {
   "cell_type": "markdown",
   "metadata": {},
   "source": [
    "### DATA"
   ]
  },
  {
   "cell_type": "code",
   "execution_count": 10,
   "metadata": {},
   "outputs": [
    {
     "name": "stdout",
     "output_type": "stream",
     "text": [
      "(np: 2^2 = 2**2, 2a = 2*a, cot(a) = cot a)podaj funkcję: x*y\n"
     ]
    },
    {
     "data": {
      "text/latex": [
       "$\\displaystyle x y$"
      ],
      "text/plain": [
       "x*y"
      ]
     },
     "execution_count": 10,
     "metadata": {},
     "output_type": "execute_result"
    }
   ],
   "source": [
    "funkcja = input(\"(np: 2^2 = 2**2, 2a = 2*a, cot(a) = cot a)podaj funkcję: \")\n",
    "transformations = standard_transformations + (implicit_application,)\n",
    "f = parse_expr(funkcja, transformations=transformations)\n",
    "f"
   ]
  },
  {
   "cell_type": "code",
   "execution_count": 11,
   "metadata": {},
   "outputs": [
    {
     "name": "stdout",
     "output_type": "stream",
     "text": [
      "podaj warunki początkowe\n",
      "Wprowadź wartość x0: 0\n",
      "Wprowadź wartość xn: 2\n",
      "Wprowadź wartość y: 1\n"
     ]
    }
   ],
   "source": [
    "print(\"podaj warunki początkowe\")\n",
    "x0 = np.float32(input(\"Wprowadź wartość x0: \"))\n",
    "xn = np.float32(input(\"Wprowadź wartość xn: \"))\n",
    "y0 = np.float32(input(\"Wprowadź wartość y: \"))"
   ]
  },
  {
   "cell_type": "markdown",
   "metadata": {},
   "source": [
    "### EULER"
   ]
  },
  {
   "cell_type": "code",
   "execution_count": 12,
   "metadata": {},
   "outputs": [],
   "source": [
    "def metodaEulera(f, x0, xn, y0, delta):\n",
    "    #lambdify\n",
    "    s = (x, y)\n",
    "    f = sy.lambdify(s, f)\n",
    "    \n",
    "    #init\n",
    "    i = x0\n",
    "    iteracje = 0\n",
    "    \n",
    "    while i <= xn-delta :\n",
    "        y0 += f(i, y0)*delta\n",
    "        i += delta\n",
    "        iteracje += 1\n",
    "\n",
    "    print(\"Euler wynik: \",y0, \"| liczba iteracji: \", iteracje)"
   ]
  },
  {
   "cell_type": "markdown",
   "metadata": {},
   "source": [
    "### RUNGE-KUTTA 2"
   ]
  },
  {
   "cell_type": "code",
   "execution_count": 13,
   "metadata": {},
   "outputs": [],
   "source": [
    "def metodaRK2(f, x0, xn, y0, delta):\n",
    "    #lambdify\n",
    "    s = (x, y)\n",
    "    f = sy.lambdify(s, f)\n",
    "    \n",
    "    #init\n",
    "    i = x0\n",
    "    iteracje = 0\n",
    "    \n",
    "    while i <= xn-delta :\n",
    "        k1 = f(i, y0)\n",
    "        k2 = f(i + delta, y0 + delta*k1)\n",
    "        i += delta\n",
    "        o = 0.5*(k1 + k2)\n",
    "        y0 = y0 + delta*o\n",
    "        iteracje += 1\n",
    "\n",
    "    print(\"RK2 wynik  : \",y0, \"| liczba iteracji: \", iteracje)"
   ]
  },
  {
   "cell_type": "markdown",
   "metadata": {},
   "source": [
    "### RUNGE-KUTTA 4"
   ]
  },
  {
   "cell_type": "code",
   "execution_count": 14,
   "metadata": {},
   "outputs": [],
   "source": [
    "def metodaRK4(f, x0, xn, y0, delta):\n",
    "    #lambdify\n",
    "    s = (x, y)\n",
    "    f = sy.lambdify(s, f)\n",
    "    \n",
    "    #init\n",
    "    i = x0\n",
    "    iteracje = 0\n",
    "    \n",
    "    while i <= xn-delta :\n",
    "        k1 = f(i, y0)\n",
    "        k2 = f(i + 0.5*delta, y0 + 0.5*delta*k1)\n",
    "        k3 = f(i + 0.5*delta, y0 + 0.5*delta*k2)\n",
    "        k4 = f(i + delta, y0 + delta*k3)\n",
    "        i += delta\n",
    "        o = (1/6)*(k1 + 2*k2 + 2*k3 + k4)\n",
    "        y0 = y0 + delta*o\n",
    "        iteracje += 1\n",
    "\n",
    "    print(\"RK4 wynik  : \",y0, \"| liczba iteracji: \", iteracje)"
   ]
  },
  {
   "cell_type": "markdown",
   "metadata": {},
   "source": [
    "#### WYNIKI "
   ]
  },
  {
   "cell_type": "code",
   "execution_count": 16,
   "metadata": {},
   "outputs": [
    {
     "name": "stdout",
     "output_type": "stream",
     "text": [
      "Wprowadź wartość h: 0.01\n"
     ]
    }
   ],
   "source": [
    "delta = np.float32(input(\"Wprowadź wartość h: \"))"
   ]
  },
  {
   "cell_type": "code",
   "execution_count": 17,
   "metadata": {},
   "outputs": [
    {
     "name": "stdout",
     "output_type": "stream",
     "text": [
      "Euler wynik:  7.220292 | liczba iteracji:  200\n",
      "RK2 wynik  :  7.388557597778545 | liczba iteracji:  200\n",
      "RK4 wynik  :  7.3890461652375405 | liczba iteracji:  200\n"
     ]
    }
   ],
   "source": [
    "metodaEulera(f, x0, xn, y0, delta)\n",
    "metodaRK2(f, x0, xn, y0, delta)\n",
    "metodaRK4(f, x0, xn, y0, delta)"
   ]
  },
  {
   "cell_type": "code",
   "execution_count": 18,
   "metadata": {},
   "outputs": [
    {
     "name": "stdout",
     "output_type": "stream",
     "text": [
      "Wprowadź wartość h: 0.03\n"
     ]
    }
   ],
   "source": [
    "delta = np.float32(input(\"Wprowadź wartość h: \"))"
   ]
  },
  {
   "cell_type": "code",
   "execution_count": 19,
   "metadata": {},
   "outputs": [
    {
     "name": "stdout",
     "output_type": "stream",
     "text": [
      "Euler wynik:  6.6435385 | liczba iteracji:  66\n",
      "RK2 wynik  :  7.096745224381156 | liczba iteracji:  66\n",
      "RK4 wynik  :  7.100738942395015 | liczba iteracji:  66\n"
     ]
    }
   ],
   "source": [
    "metodaEulera(f, x0, xn, y0, delta)\n",
    "metodaRK2(f, x0, xn, y0, delta)\n",
    "metodaRK4(f, x0, xn, y0, delta)"
   ]
  },
  {
   "cell_type": "markdown",
   "metadata": {},
   "source": [
    "uwagi: liczba kroków jest taka sama dla każdej z metod ponieważ warunki początkowe są takie same"
   ]
  },
  {
   "cell_type": "markdown",
   "metadata": {},
   "source": [
    "### WNIOSKI"
   ]
  },
  {
   "cell_type": "raw",
   "metadata": {},
   "source": [
    "Dla funkcji 𝑓=𝑥𝑦 gdzie 𝑥∈[0,2] oraz warunków początkowych: 𝑦=1, delta(h)=0.01 jak i dla delta(h)=0.03\n",
    "najbardziej dokładną metodą okazała się metoda RUNGEGO-KUTTY czwartego rzędu.\n",
    "Wynik analityczny jest równy 7.389056\n",
    "Jak widać im mniejsza wielkość skoku tym bardziej dokładny wynik, niestety kosztem szybkości obliczeń."
   ]
  }
 ],
 "metadata": {
  "kernelspec": {
   "display_name": "Python 3",
   "language": "python",
   "name": "python3"
  },
  "language_info": {
   "codemirror_mode": {
    "name": "ipython",
    "version": 3
   },
   "file_extension": ".py",
   "mimetype": "text/x-python",
   "name": "python",
   "nbconvert_exporter": "python",
   "pygments_lexer": "ipython3",
   "version": "3.7.4"
  }
 },
 "nbformat": 4,
 "nbformat_minor": 2
}
