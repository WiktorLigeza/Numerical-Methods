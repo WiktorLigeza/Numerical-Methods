{
 "cells": [
  {
   "cell_type": "code",
   "execution_count": 33,
   "metadata": {},
   "outputs": [],
   "source": [
    "import numpy as np\n",
    "import pandas as pd\n",
    "import matplotlib.pyplot as plt"
   ]
  },
  {
   "cell_type": "code",
   "execution_count": 34,
   "metadata": {},
   "outputs": [
    {
     "name": "stdout",
     "output_type": "stream",
     "text": [
      "Wprowadź wartość x1: 1.2\n"
     ]
    }
   ],
   "source": [
    "x1 = np.float32(input(\"Wprowadź wartość x1: \"))"
   ]
  },
  {
   "cell_type": "code",
   "execution_count": 35,
   "metadata": {},
   "outputs": [
    {
     "name": "stdout",
     "output_type": "stream",
     "text": [
      "Wprowadź wartość x2: 1.9\n"
     ]
    }
   ],
   "source": [
    "x2 =  np.float32(input(\"Wprowadź wartość x2: \"))"
   ]
  },
  {
   "cell_type": "code",
   "execution_count": 44,
   "metadata": {},
   "outputs": [
    {
     "name": "stdout",
     "output_type": "stream",
     "text": [
      "Wprowadź wartość x: 0.\n"
     ]
    }
   ],
   "source": [
    "tol = np.float32(input(\"Wprowadź wartość x: \"))"
   ]
  },
  {
   "cell_type": "code",
   "execution_count": 6,
   "metadata": {},
   "outputs": [
    {
     "name": "stdout",
     "output_type": "stream",
     "text": [
      "Podaj ilosc iteracji: 100\n"
     ]
    }
   ],
   "source": [
    "iloscIteracji = int(input(\"Podaj ilosc iteracji: \"))"
   ]
  },
  {
   "cell_type": "code",
   "execution_count": 36,
   "metadata": {},
   "outputs": [],
   "source": [
    "def metodaBisekcji(y,x1,x2):\n",
    "    red = [[x1,y(x1)]] #x2\n",
    "    green = [[x2,y(x2)]] #x1\n",
    "    yellow =[] #root\n",
    "#-----------------------------funckja--------------------------------   \n",
    "    if y(x1)*y(x2) > 0:\n",
    "        print(\"brak pierwiastka w danej sekcji\")\n",
    "        return 0\n",
    "        \n",
    "    if y(x1) == 0:\n",
    "        print(\"x1 jednym pierwiastków\")\n",
    "        return 0\n",
    "        \n",
    "    if y(x2) == 0:\n",
    "        print(\"x2 jednym pierwiastków\")\n",
    "        return 0\n",
    "    \n",
    "    #jeżeli żadne z powyższych ifów się nie spełnił\n",
    "    #znacz to że że pierwiastek znajduje się w podanym przedziale\n",
    "    for i in range(iloscIteracji):\n",
    "        c = (x1+x2)/2 #bisekcja\n",
    "        if y(c)*y(x1) < 0: #pierwiastek znajduje się pomiędzy c a x1 więc x2 przyjumje wartość c\n",
    "            x2 = c\n",
    "            green.append([x2,y(x2)])\n",
    "        else:              #pierwiastek znajduje się pomiędzy c a x2 więc x1 przyjumje wartość c\n",
    "            x1 = c\n",
    "            red.append([x1,y(x1)])\n",
    "        if abs(y(x1)) < tol:\n",
    "            print(\"ilość wykonanych iteracji: \",i) \n",
    "            break\n",
    "#------------------------------------------------------------- \n",
    "    print(\"pierwiastek znajduje się w x: \",x1)\n",
    "    yellow.append([x1,y(x1)]) #root\n",
    "    x_list = np.linspace(0,2.5,100)\n",
    "    x_list[0] = 0.00001\n",
    "    fplot = list(map(y, x_list))\n",
    "    plt.plot(x_list, fplot)\n",
    "    #x1\n",
    "    x, y = list(zip(*green))\n",
    "    plt.scatter(x, y, c='r')\n",
    "    #x2\n",
    "    x, y = list(zip(*red))\n",
    "    plt.scatter(x, y, c='g')\n",
    "    #result           \n",
    "    x, y = list(zip(*yellow))\n",
    "    plt.scatter(x, y, c='y')"
   ]
  },
  {
   "cell_type": "code",
   "execution_count": 37,
   "metadata": {},
   "outputs": [],
   "source": [
    "wilomianowa = lambda x: 2*x**2 - 5*x +3\n",
    "logarytmiczna = lambda x: np.log(x**2 + 2*x)\n",
    "trygonometryczna = lambda x: np.sin(x**3 - 2*x)"
   ]
  },
  {
   "cell_type": "code",
   "execution_count": 45,
   "metadata": {},
   "outputs": [
    {
     "name": "stdout",
     "output_type": "stream",
     "text": [
      "brak pierwiastka w danej sekcji\n"
     ]
    },
    {
     "data": {
      "text/plain": [
       "0"
      ]
     },
     "execution_count": 45,
     "metadata": {},
     "output_type": "execute_result"
    }
   ],
   "source": [
    "metodaBisekcji(wilomianowa,x1,x2)"
   ]
  },
  {
   "cell_type": "code",
   "execution_count": 39,
   "metadata": {},
   "outputs": [
    {
     "name": "stdout",
     "output_type": "stream",
     "text": [
      "ilość wykonanych iteracji:  23\n",
      "pierwiastek znajduje się w x:  1.4142135453664082\n"
     ]
    },
    {
     "data": {
      "image/png": "[encoded data removed]",
      "text/plain": [
       "<Figure size 432x288 with 1 Axes>"
      ]
     },
     "metadata": {
      "needs_background": "light"
     },
     "output_type": "display_data"
    }
   ],
   "source": [
    "metodaBisekcji(trygonometryczna,x1,x2)"
   ]
  },
  {
   "cell_type": "code",
   "execution_count": 40,
   "metadata": {},
   "outputs": [
    {
     "name": "stdout",
     "output_type": "stream",
     "text": [
      "Wprowadź wartość x1: 0.2\n"
     ]
    }
   ],
   "source": [
    "x1 = np.float32(input(\"Wprowadź wartość x1: \"))"
   ]
  },
  {
   "cell_type": "code",
   "execution_count": 41,
   "metadata": {},
   "outputs": [
    {
     "name": "stdout",
     "output_type": "stream",
     "text": [
      "Wprowadź wartość x2: 2\n"
     ]
    }
   ],
   "source": [
    "x2 =  np.float32(input(\"Wprowadź wartość x2: \"))"
   ]
  },
  {
   "cell_type": "code",
   "execution_count": 42,
   "metadata": {},
   "outputs": [
    {
     "name": "stdout",
     "output_type": "stream",
     "text": [
      "ilość wykonanych iteracji:  23\n",
      "pierwiastek znajduje się w x:  0.41421355803640303\n"
     ]
    },
    {
     "data": {
      "image/png": "[encoded data removed]",
      "text/plain": [
       "<Figure size 432x288 with 1 Axes>"
      ]
     },
     "metadata": {
      "needs_background": "light"
     },
     "output_type": "display_data"
    }
   ],
   "source": [
    "metodaBisekcji(logarytmiczna,x1,x2)"
   ]
  },
  {
   "cell_type": "markdown",
   "metadata": {},
   "source": [
    "Kolor zielony oznacza x1, czerowny x2, żółty wynik"
   ]
  },
  {
   "cell_type": "code",
   "execution_count": null,
   "metadata": {},
   "outputs": [],
   "source": []
  }
 ],
 "metadata": {
  "kernelspec": {
   "display_name": "Python 3",
   "language": "python",
   "name": "python3"
  },
  "language_info": {
   "codemirror_mode": {
    "name": "ipython",
    "version": 3
   },
   "file_extension": ".py",
   "mimetype": "text/x-python",
   "name": "python",
   "nbconvert_exporter": "python",
   "pygments_lexer": "ipython3",
   "version": "3.7.4"
  }
 },
 "nbformat": 4,
 "nbformat_minor": 2
}
