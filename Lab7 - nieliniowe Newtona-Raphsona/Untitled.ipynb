{
 "cells": [
  {
   "cell_type": "markdown",
   "metadata": {},
   "source": [
    "# Wiktor Ligęza IO gr.lab 2"
   ]
  },
  {
   "cell_type": "code",
   "execution_count": 5,
   "metadata": {},
   "outputs": [],
   "source": [
    "import numpy as np\n",
    "import pandas as pd\n",
    "import matplotlib.pyplot as plt\n",
    "import sympy as sy\n",
    "from sympy.parsing.sympy_parser import (parse_expr,\n",
    "standard_transformations, implicit_application)\n",
    "from sympy.abc import x, y"
   ]
  },
  {
   "cell_type": "markdown",
   "metadata": {},
   "source": [
    "# DANE"
   ]
  },
  {
   "cell_type": "code",
   "execution_count": 6,
   "metadata": {},
   "outputs": [
    {
     "name": "stdout",
     "output_type": "stream",
     "text": [
      "Wprowadź wartość tol: 0.000000000000001\n"
     ]
    }
   ],
   "source": [
    "tol = np.float32(input(\"Wprowadź wartość tol: \"))"
   ]
  },
  {
   "cell_type": "code",
   "execution_count": 7,
   "metadata": {},
   "outputs": [
    {
     "name": "stdout",
     "output_type": "stream",
     "text": [
      "Podaj maksymalną ilość iteracji: 10000\n"
     ]
    }
   ],
   "source": [
    "iloscIteracji = int(input(\"Podaj maksymalną ilość iteracji: \"))"
   ]
  },
  {
   "cell_type": "code",
   "execution_count": 8,
   "metadata": {},
   "outputs": [
    {
     "name": "stdout",
     "output_type": "stream",
     "text": [
      "(np: 2^2 = 2**2, 2a = 2*a, cot(a) = cot a)podaj funkcję: x*y+2*y-2\n"
     ]
    },
    {
     "data": {
      "text/latex": [
       "$\\displaystyle x y + 2 y - 2$"
      ],
      "text/plain": [
       "x*y + 2*y - 2"
      ]
     },
     "execution_count": 8,
     "metadata": {},
     "output_type": "execute_result"
    }
   ],
   "source": [
    "funkcja = input(\"(np: 2^2 = 2**2, 2a = 2*a, cot(a) = cot a)podaj funkcję: \")\n",
    "transformations = standard_transformations + (implicit_application,)\n",
    "f1 = parse_expr(funkcja, transformations=transformations)\n",
    "f1"
   ]
  },
  {
   "cell_type": "code",
   "execution_count": 9,
   "metadata": {},
   "outputs": [
    {
     "name": "stdout",
     "output_type": "stream",
     "text": [
      "(np: 2^2 = 2**2, 2a = 2*a, cot(a) = cot a)podaj funkcję: x**2+4*y**2-4\n"
     ]
    },
    {
     "data": {
      "text/latex": [
       "$\\displaystyle x^{2} + 4 y^{2} - 4$"
      ],
      "text/plain": [
       "x**2 + 4*y**2 - 4"
      ]
     },
     "execution_count": 9,
     "metadata": {},
     "output_type": "execute_result"
    }
   ],
   "source": [
    "funkcja = input(\"(np: 2^2 = 2**2, 2a = 2*a, cot(a) = cot a)podaj funkcję: \")\n",
    "transformations = standard_transformations + (implicit_application,)\n",
    "f2 = parse_expr(funkcja, transformations=transformations)\n",
    "f2"
   ]
  },
  {
   "cell_type": "code",
   "execution_count": 10,
   "metadata": {},
   "outputs": [
    {
     "name": "stdout",
     "output_type": "stream",
     "text": [
      "podaj warunek począrkowy (np: X0 = 1,2): 1,2\n"
     ]
    },
    {
     "data": {
      "text/plain": [
       "array([[1.],\n",
       "       [2.]], dtype=float32)"
      ]
     },
     "execution_count": 10,
     "metadata": {},
     "output_type": "execute_result"
    }
   ],
   "source": [
    "X0 = list(map(np.float32, input(\"podaj warunek począrkowy (np: X0 = 1,2): \").split(\",\")))\n",
    "X0 = np.asarray(X0).reshape(-1,1)\n",
    "Xroot = X0\n",
    "Xroot"
   ]
  },
  {
   "cell_type": "markdown",
   "metadata": {},
   "source": [
    "# OBLICZANIE"
   ]
  },
  {
   "cell_type": "markdown",
   "metadata": {},
   "source": [
    "### F(Xk)"
   ]
  },
  {
   "cell_type": "code",
   "execution_count": 11,
   "metadata": {},
   "outputs": [
    {
     "data": {
      "text/latex": [
       "$\\displaystyle \\left[\\begin{matrix}x y + 2 y - 2\\\\x^{2} + 4 y^{2} - 4\\end{matrix}\\right]$"
      ],
      "text/plain": [
       "Matrix([\n",
       "[    x*y + 2*y - 2],\n",
       "[x**2 + 4*y**2 - 4]])"
      ]
     },
     "execution_count": 11,
     "metadata": {},
     "output_type": "execute_result"
    }
   ],
   "source": [
    "F = sy.Matrix([f1,f2])\n",
    "F"
   ]
  },
  {
   "cell_type": "code",
   "execution_count": 12,
   "metadata": {},
   "outputs": [],
   "source": [
    "s = (x, y)\n",
    "F_func = sy.lambdify(s, F, modules='numpy')"
   ]
  },
  {
   "cell_type": "markdown",
   "metadata": {},
   "source": [
    "### J^-1[Xk]"
   ]
  },
  {
   "cell_type": "code",
   "execution_count": 13,
   "metadata": {},
   "outputs": [
    {
     "data": {
      "text/latex": [
       "$\\displaystyle \\left[\\begin{matrix}\\frac{8 y}{- 2 x \\left(x + 2\\right) + 8 y^{2}} & - \\frac{x + 2}{- 2 x \\left(x + 2\\right) + 8 y^{2}}\\\\- \\frac{2 x}{- 2 x \\left(x + 2\\right) + 8 y^{2}} & \\frac{y}{- 2 x \\left(x + 2\\right) + 8 y^{2}}\\end{matrix}\\right]$"
      ],
      "text/plain": [
       "Matrix([\n",
       "[ 8*y/(-2*x*(x + 2) + 8*y**2), -(x + 2)/(-2*x*(x + 2) + 8*y**2)],\n",
       "[-2*x/(-2*x*(x + 2) + 8*y**2),        y/(-2*x*(x + 2) + 8*y**2)]])"
      ]
     },
     "execution_count": 13,
     "metadata": {},
     "output_type": "execute_result"
    }
   ],
   "source": [
    "#Jakobian^-1\n",
    "J = sy.Matrix([f1,f2]).jacobian(['x', 'y'])\n",
    "J = J.inv()\n",
    "J"
   ]
  },
  {
   "cell_type": "code",
   "execution_count": 14,
   "metadata": {},
   "outputs": [],
   "source": [
    "s = (x, y)\n",
    "J_func = sy.lambdify(s, J, modules='numpy')"
   ]
  },
  {
   "cell_type": "markdown",
   "metadata": {},
   "source": [
    "### metoda Newtona-Rhapsona"
   ]
  },
  {
   "cell_type": "code",
   "execution_count": 16,
   "metadata": {},
   "outputs": [
    {
     "name": "stdout",
     "output_type": "stream",
     "text": [
      "ilosc powtórzeń: 5\n"
     ]
    }
   ],
   "source": [
    "for i in range(iloscIteracji):\n",
    "    Xk = X0 - J_func(X0[0][0],X0[1][0]) @ F_func(X0[0][0],X0[1][0])\n",
    "    X0 = Xk\n",
    "    if stop(Xk) :\n",
    "        break\n",
    "\n",
    "print(\"ilosc powtórzeń:\",i)"
   ]
  },
  {
   "cell_type": "markdown",
   "metadata": {},
   "source": [
    "#### wynik:"
   ]
  },
  {
   "cell_type": "code",
   "execution_count": 17,
   "metadata": {},
   "outputs": [
    {
     "name": "stdout",
     "output_type": "stream",
     "text": [
      "[[-6.93169181e-17]\n",
      " [ 1.00000000e+00]]\n"
     ]
    }
   ],
   "source": [
    "print(X0)"
   ]
  },
  {
   "cell_type": "markdown",
   "metadata": {},
   "source": [
    "#### wartość funkcji w zadanym punkcie"
   ]
  },
  {
   "cell_type": "code",
   "execution_count": 18,
   "metadata": {},
   "outputs": [
    {
     "name": "stdout",
     "output_type": "stream",
     "text": [
      "[[ 4.]\n",
      " [13.]]\n"
     ]
    }
   ],
   "source": [
    "print(F_func(Xroot[0][0],Xroot[1][0]))  "
   ]
  },
  {
   "cell_type": "markdown",
   "metadata": {},
   "source": [
    "###### jeżeli wektor dla otrzymanego punktu będzie = [0,0], oznacza to że wynik jest poprawny"
   ]
  },
  {
   "cell_type": "code",
   "execution_count": 19,
   "metadata": {},
   "outputs": [
    {
     "data": {
      "text/plain": [
       "array([[0.],\n",
       "       [0.]])"
      ]
     },
     "execution_count": 19,
     "metadata": {},
     "output_type": "execute_result"
    }
   ],
   "source": [
    "F_func(X0[0][0],X0[1][0])"
   ]
  },
  {
   "cell_type": "markdown",
   "metadata": {},
   "source": [
    "### warunek przerwania "
   ]
  },
  {
   "cell_type": "code",
   "execution_count": 15,
   "metadata": {},
   "outputs": [],
   "source": [
    "def stop(Xk):\n",
    "    i=0\n",
    "    j=0\n",
    "    X = F_func(X0[0][0],X0[1][0])\n",
    "    if abs(X[0]-0) < tol :\n",
    "        i = 1\n",
    "    if abs(X[1]-0) < tol :\n",
    "        j = 1\n",
    "    if j+i == 2 :\n",
    "        return True\n",
    "    else : \n",
    "        return False"
   ]
  },
  {
   "cell_type": "code",
   "execution_count": null,
   "metadata": {},
   "outputs": [],
   "source": [
    "### przykładowe funkcje\n",
    "x*y+2*y-2\n",
    "x**2+4*y**2-4\n",
    "\n",
    "\n",
    "2*x+y**2 - 6\n",
    "x*y-2"
   ]
  }
 ],
 "metadata": {
  "kernelspec": {
   "display_name": "Python 3",
   "language": "python",
   "name": "python3"
  },
  "language_info": {
   "codemirror_mode": {
    "name": "ipython",
    "version": 3
   },
   "file_extension": ".py",
   "mimetype": "text/x-python",
   "name": "python",
   "nbconvert_exporter": "python",
   "pygments_lexer": "ipython3",
   "version": "3.7.4"
  }
 },
 "nbformat": 4,
 "nbformat_minor": 2
}
